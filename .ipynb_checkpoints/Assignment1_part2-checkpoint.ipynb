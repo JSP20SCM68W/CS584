{
 "cells": [
  {
   "cell_type": "code",
   "execution_count": 1,
   "metadata": {
    "collapsed": true
   },
   "outputs": [],
   "source": [
    "import re\n",
    "from collections import defaultdict\n",
    "import matplotlib.pyplot as plt\n",
    "import numpy as np\n",
    "from pylab import *\n",
    "from decimal import Decimal\n",
    "from sklearn import cross_validation\n",
    "from sklearn.cross_validation import KFold\n",
    "from sklearn.metrics import mean_squared_error\n",
    "from sklearn import linear_model\n",
    "%matplotlib inline"
   ]
  },
  {
   "cell_type": "code",
   "execution_count": 28,
   "metadata": {
    "collapsed": true
   },
   "outputs": [],
   "source": [
    "def load_data(filename):\n",
    "    ''' load data and plot the data and get the complexity of the data\n",
    "    dictionary maps y to its feature vector x'''\n",
    "#     f = open(filename,'r')\n",
    "#     rows = 0\n",
    "#     colums = 0\n",
    "#     xy = defaultdict(list)\n",
    "#     for word in f:\n",
    "#         if word == \" \":\n",
    "#             break\n",
    "#         if not word.startswith(\"#\"):\n",
    "#             nums = word.split()\n",
    "#             nums = [float(n) for n in nums]\n",
    "#             xy[float(nums[-1])] = nums[0:len(nums)-1]\n",
    "#     return xy\n",
    "    data = np.loadtxt(filename)\n",
    "    X = data[:,:-1]\n",
    "    Y = data[:,-1]\n",
    "    return X,Y"
   ]
  },
  {
   "cell_type": "code",
   "execution_count": 34,
   "metadata": {
    "collapsed": false
   },
   "outputs": [
    {
     "data": {
      "text/plain": [
       "array([[  1.00000000e+00,   1.67346939e+00,   4.48979592e-01,\n",
       "          2.80049979e+00,   7.51353603e-01,   2.01582674e-01],\n",
       "       [  1.00000000e+00,  -4.08163265e-02,   5.30612245e-01,\n",
       "          1.66597251e-03,  -2.16576426e-02,   2.81549354e-01],\n",
       "       [  1.00000000e+00,  -7.75510204e-01,  -1.59183673e+00,\n",
       "          6.01416077e-01,   1.23448563e+00,   2.53394419e+00],\n",
       "       ..., \n",
       "       [  1.00000000e+00,  -2.00000000e+00,  -6.93877551e-01,\n",
       "          4.00000000e+00,   1.38775510e+00,   4.81466056e-01],\n",
       "       [  1.00000000e+00,  -1.83673469e+00,   1.02040816e+00,\n",
       "          3.37359434e+00,  -1.87421908e+00,   1.04123282e+00],\n",
       "       [  1.00000000e+00,  -2.85714286e-01,   1.42857143e+00,\n",
       "          8.16326531e-02,  -4.08163265e-01,   2.04081633e+00]])"
      ]
     },
     "execution_count": 34,
     "metadata": {},
     "output_type": "execute_result"
    }
   ],
   "source": [
    "X,Y = load_data(\"mvar-set1.dat.txt\")\n",
    "# Z = np.vstack([ones(X.shape[1]),X])\n",
    "z = list()\n",
    "for x in X:\n",
    "    temp = [1] + list(x)\n",
    "    for i in range(X.shape[1]):\n",
    "        for j in range(i,X.shape[1]):\n",
    "            temp.append(x[i]*x[j])\n",
    "    z.append(temp)\n",
    "    \n",
    "np.array(z) "
   ]
  },
  {
   "cell_type": "code",
   "execution_count": null,
   "metadata": {
    "collapsed": true
   },
   "outputs": [],
   "source": []
  }
 ],
 "metadata": {
  "kernelspec": {
   "display_name": "Python 2",
   "language": "python",
   "name": "python2"
  },
  "language_info": {
   "codemirror_mode": {
    "name": "ipython",
    "version": 2
   },
   "file_extension": ".py",
   "mimetype": "text/x-python",
   "name": "python",
   "nbconvert_exporter": "python",
   "pygments_lexer": "ipython2",
   "version": "2.7.6"
  }
 },
 "nbformat": 4,
 "nbformat_minor": 0
}
