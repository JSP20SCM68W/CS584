{
 "cells": [
  {
   "cell_type": "code",
   "execution_count": 130,
   "metadata": {
    "collapsed": true
   },
   "outputs": [],
   "source": [
    "import re\n",
    "from collections import defaultdict\n",
    "from sklearn import preprocessing\n",
    "import matplotlib.pyplot as plt\n",
    "import numpy as np\n",
    "from pylab import *\n",
    "from decimal import Decimal\n",
    "from sklearn import cross_validation\n",
    "from sklearn.cross_validation import KFold\n",
    "from sklearn.metrics import mean_squared_error\n",
    "from sklearn import linear_model\n",
    "from sklearn.metrics import accuracy_score\n",
    "from sklearn.metrics import recall_score\n",
    "from sklearn.metrics import precision_score\n",
    "from sklearn.metrics import confusion_matrix\n",
    "from sklearn.metrics import f1_score\n",
    "from numpy import trapz\n",
    "%matplotlib inline"
   ]
  },
  {
   "cell_type": "code",
   "execution_count": 90,
   "metadata": {
    "collapsed": false
   },
   "outputs": [],
   "source": [
    "def load_data(filename):\n",
    "    data = np.loadtxt(filename,delimiter=',',dtype='string')\n",
    "    return data\n",
    "    "
   ]
  },
  {
   "cell_type": "code",
   "execution_count": 91,
   "metadata": {
    "collapsed": false
   },
   "outputs": [],
   "source": [
    "def preprocess_irisdata(data,x_index,y_index,rows):\n",
    "    x = data[:rows,x_index]\n",
    "    X = []\n",
    "    for i in x:\n",
    "        X.append(eval(i))\n",
    "    X = np.array(X)\n",
    "    y = data[:rows,y_index]\n",
    "    le = preprocessing.LabelEncoder()\n",
    "    Y = le.fit_transform(y)\n",
    "    return X,Y"
   ]
  },
  {
   "cell_type": "code",
   "execution_count": 92,
   "metadata": {
    "collapsed": true
   },
   "outputs": [],
   "source": [
    "def indicator(Y,class_val):\n",
    "    l = list()\n",
    "    for idx,y in enumerate(Y):\n",
    "        if y == class_val:\n",
    "            l.append(idx)\n",
    "    return l"
   ]
  },
  {
   "cell_type": "code",
   "execution_count": 93,
   "metadata": {
    "collapsed": true
   },
   "outputs": [],
   "source": [
    "def compute_mean(X,indices):\n",
    "    x = X[indices]\n",
    "    mean = np.mean(x)\n",
    "    return mean\n",
    "    "
   ]
  },
  {
   "cell_type": "code",
   "execution_count": 94,
   "metadata": {
    "collapsed": true
   },
   "outputs": [],
   "source": [
    "def compute_sigma(X,indices,mean):\n",
    "    x = X[indices]\n",
    "    total = 0\n",
    "    total = sum((x-mean)**2)\n",
    "    return 1.*total/(x.size)"
   ]
  },
  {
   "cell_type": "markdown",
   "metadata": {},
   "source": [
    "# 1D 2-class Gaussian Discriminant Analysis"
   ]
  },
  {
   "cell_type": "code",
   "execution_count": 95,
   "metadata": {
    "collapsed": false
   },
   "outputs": [],
   "source": [
    "def membership_function(x,Y,prior,mean,sigma):\n",
    "    membership = math.log(prior) - math.log(math.sqrt(sigma)) - ((x-mean)**2)/(2*sigma) \n",
    "    return membership"
   ]
  },
  {
   "cell_type": "code",
   "execution_count": 96,
   "metadata": {
    "collapsed": false
   },
   "outputs": [],
   "source": [
    "def oneD_2class_GDA(X,Y,x_predict):\n",
    "    \n",
    "    prediction = list()\n",
    "    indices = dict()\n",
    "    prior = dict()\n",
    "    class_mean = dict()\n",
    "    class_sigma = dict()\n",
    "    membership = dict()\n",
    "    labels = np.unique(Y)\n",
    "    # loop over all the classes and create a dictioinary of indicator function\n",
    "    for label in labels:\n",
    "        indices[label] = indicator(Y,label)\n",
    "        prior[label] = 1.*len(indices[label])/len(Y)\n",
    "        class_mean[label] = compute_mean(X,indices[label])\n",
    "        class_sigma[label] = compute_sigma(X,indices[label],class_mean[label])\n",
    "    \n",
    "    for ind,x in enumerate(x_predict):\n",
    "        temp = [membership_function(x,Y,prior[label],class_mean[label],class_sigma[label]) for label in labels]\n",
    "        pred = labels[temp.index(max(temp))]\n",
    "        prediction.append(pred)\n",
    "\n",
    "    return prediction"
   ]
  },
  {
   "cell_type": "code",
   "execution_count": 141,
   "metadata": {
    "collapsed": false
   },
   "outputs": [],
   "source": [
    "def cross_validation1D(filename,k):\n",
    "    irisdata = load_data(filename)\n",
    "    X,Y = preprocess_irisdata(irisdata,2,4,100)\n",
    "#     X,Y =  preprocess_irisdata(irisdata,3,4,100)\n",
    "    accuracy = list()\n",
    "    precision = list()\n",
    "    recall = list()\n",
    "    f_measure = list()\n",
    "    fold = 1\n",
    "    for train_ind, test_ind in KFold(X.size,k,shuffle=True):\n",
    "        X_train = np.array(X)[train_ind]\n",
    "        Y_train = np.array(Y)[train_ind]\n",
    "        X_test = np.array(X)[test_ind]\n",
    "        Y_test = np.array(Y)[test_ind]\n",
    "        Y_predict = oneD_2class_GDA(X_train,Y_train,X_test)\n",
    "        temp = accuracy_score(Y_test,Y_predict,normalize=True, sample_weight=None)\n",
    "        accuracy.append(temp)\n",
    "        rec = recall_score(Y_test, Y_predict, average='binary')  \n",
    "        c_matrix = confusion_matrix(Y_test, Y_predict)\n",
    "        recall.append(rec)\n",
    "        prec = precision_score(Y_test, Y_predict, average='binary')  \n",
    "        precision.append(prec)\n",
    "        fm = f1_score(Y_test, Y_predict, average='binary')\n",
    "        f_measure.append(fm)\n",
    "        print 'fold:', fold\n",
    "        print 'confusion_matrix'\n",
    "        print c_matrix\n",
    "        print 'accuracy:', temp\n",
    "        print ''\n",
    "        fold += 1\n",
    "    avg_acc = sum(accuracy)/len(accuracy)\n",
    "    avg_pre = sum(precision)/len(precision)\n",
    "    avg_rec = sum(recall)/len(recall)\n",
    "    avg_fm = sum(f_measure)/len(f_measure)\n",
    "    print 'avg_accuracy: ' , avg_acc\n",
    "    print 'avg_precision', avg_pre\n",
    "    print 'avg_recall', avg_rec\n",
    "    print 'avg_fmeasure', avg_fm"
   ]
  },
  {
   "cell_type": "code",
   "execution_count": 142,
   "metadata": {
    "collapsed": false,
    "scrolled": false
   },
   "outputs": [
    {
     "name": "stdout",
     "output_type": "stream",
     "text": [
      "fold: 1\n",
      "confusion_matrix\n",
      "[[3 0]\n",
      " [0 7]]\n",
      "accuracy: 1.0\n",
      "\n",
      "fold: 2\n",
      "confusion_matrix\n",
      "[[6 0]\n",
      " [0 4]]\n",
      "accuracy: 1.0\n",
      "\n",
      "fold: 3\n",
      "confusion_matrix\n",
      "[[6 0]\n",
      " [0 4]]\n",
      "accuracy: 1.0\n",
      "\n",
      "fold: 4\n",
      "confusion_matrix\n",
      "[[6 0]\n",
      " [0 4]]\n",
      "accuracy: 1.0\n",
      "\n",
      "fold: 5\n",
      "confusion_matrix\n",
      "[[5 0]\n",
      " [0 5]]\n",
      "accuracy: 1.0\n",
      "\n",
      "fold: 6\n",
      "confusion_matrix\n",
      "[[6 0]\n",
      " [0 4]]\n",
      "accuracy: 1.0\n",
      "\n",
      "fold: 7\n",
      "confusion_matrix\n",
      "[[2 0]\n",
      " [0 8]]\n",
      "accuracy: 1.0\n",
      "\n",
      "fold: 8\n",
      "confusion_matrix\n",
      "[[5 0]\n",
      " [0 5]]\n",
      "accuracy: 1.0\n",
      "\n",
      "fold: 9\n",
      "confusion_matrix\n",
      "[[5 0]\n",
      " [0 5]]\n",
      "accuracy: 1.0\n",
      "\n",
      "fold: 10\n",
      "confusion_matrix\n",
      "[[6 0]\n",
      " [0 4]]\n",
      "accuracy: 1.0\n",
      "\n",
      "avg_accuracy:  1.0\n",
      "avg_precision 1.0\n",
      "avg_recall 1.0\n",
      "avg_fmeasure 1.0\n"
     ]
    }
   ],
   "source": [
    "cross_validation1D('bezdekIris.data.txt',10)"
   ]
  },
  {
   "cell_type": "markdown",
   "metadata": {
    "collapsed": true
   },
   "source": [
    "# nD k-class Gaussian Discriminanat Analysis "
   ]
  },
  {
   "cell_type": "code",
   "execution_count": 54,
   "metadata": {
    "collapsed": false
   },
   "outputs": [],
   "source": [
    "def preprocess_nd(data):\n",
    "    X = data[:,:-1]\n",
    "    x = []\n",
    "    for i in X:\n",
    "        temp = []\n",
    "        for feature in i:\n",
    "            temp.append(eval(feature))\n",
    "        x.append(temp)\n",
    "    \n",
    "    X = np.array(x)\n",
    "    y = data[:,-1]\n",
    "    le = preprocessing.LabelEncoder()\n",
    "    Y = le.fit_transform(y)\n",
    "    return X,Y"
   ]
  },
  {
   "cell_type": "code",
   "execution_count": 56,
   "metadata": {
    "collapsed": false
   },
   "outputs": [],
   "source": [
    "def compute_mean_vector(X,indices):\n",
    "    m = len(indices)\n",
    "    x = X[indices]\n",
    "    result = np.zeros((X.shape)[1])\n",
    "    for i in x:\n",
    "        for ind,feature in enumerate(i):\n",
    "            result[ind] += (feature)\n",
    "    result = 1.*result/m \n",
    "    return result        \n",
    "    "
   ]
  },
  {
   "cell_type": "code",
   "execution_count": 57,
   "metadata": {
    "collapsed": true
   },
   "outputs": [],
   "source": [
    "def compute_covariance(X,indices,mean):\n",
    "    m = len(indices)\n",
    "    x = X[indices]\n",
    "    covariance = np.zeros(((x.shape)[1],(x.shape)[1]))\n",
    "    for i in range(x.shape[1]):\n",
    "        covariance = covariance + np.outer((x[i]-mean),(x[i]-mean))\n",
    "    return covariance"
   ]
  },
  {
   "cell_type": "code",
   "execution_count": 58,
   "metadata": {
    "collapsed": false
   },
   "outputs": [],
   "source": [
    "def membership_function_nd(X,covariance,mean,prior):\n",
    "    detcov = det(covariance)\n",
    "    invcov = inv(covariance)\n",
    "    diff = X - mean\n",
    "    tdiff = diff.transpose()\n",
    "    A = dot(diff,invcov)\n",
    "    return (math.log(prior) - math.log(detcov) - dot(A,tdiff))\n",
    "    "
   ]
  },
  {
   "cell_type": "code",
   "execution_count": 59,
   "metadata": {
    "collapsed": true
   },
   "outputs": [],
   "source": [
    "def nd_experiment(X,Y,x_predict):\n",
    "    mean = dict()\n",
    "    covariance = dict()\n",
    "    prior = dict()\n",
    "    indices = dict()\n",
    "    membership = dict()\n",
    "    prediction = list()\n",
    "    labels = np.unique(Y)\n",
    "    for label in labels:\n",
    "        indices[label] = indicator(Y,label)\n",
    "        prior[label] = 1.*len(indices[label])/len(Y)\n",
    "        mean[label] = compute_mean_vector(X,indices[label])\n",
    "        covariance[label] = compute_covariance(X,indices[label],mean[label])\n",
    "\n",
    "    for ind,x in enumerate(x_predict):\n",
    "        temp = [membership_function_nd(x,covariance[label],mean[label],prior[label]) for label in labels]\n",
    "        pred = labels[temp.index(max(temp))]\n",
    "        prediction.append(pred) \n",
    "    return prediction"
   ]
  },
  {
   "cell_type": "code",
   "execution_count": 139,
   "metadata": {
    "collapsed": true
   },
   "outputs": [],
   "source": [
    "def cross_validation_nd_kclass(filename,k):\n",
    "    data = load_data(filename)\n",
    "    X,Y = preprocess_nd(data)\n",
    "    accuracy = list()\n",
    "    precision = list()\n",
    "    recall = list()\n",
    "    f_measure = list()\n",
    "    fold = 1\n",
    "    for train_ind, test_ind in KFold(X.shape[0],k,shuffle=True):\n",
    "        X_train = np.array(X)[train_ind]\n",
    "        Y_train = np.array(Y)[train_ind]\n",
    "        X_test = np.array(X)[test_ind]\n",
    "        Y_test = np.array(Y)[test_ind]\n",
    "        \n",
    "        Y_predict = nd_experiment(X_train,Y_train,X_test)\n",
    "        temp = accuracy_score(Y_test,Y_predict,normalize=True, sample_weight=None)\n",
    "        accuracy.append(temp)\n",
    "        rec = recall_score(Y_test, Y_predict, average='micro')  \n",
    "        c_matrix = confusion_matrix(Y_test, Y_predict)\n",
    "        recall.append(rec)\n",
    "        prec = precision_score(Y_test, Y_predict, average='micro')  \n",
    "        precision.append(prec)\n",
    "        fm = f1_score(Y_test, Y_predict, average='micro')\n",
    "        f_measure.append(fm)\n",
    "        print 'fold:', fold\n",
    "        print 'accuracy:', temp\n",
    "        print 'confusion_matrix'\n",
    "        print c_matrix\n",
    "        print ''\n",
    "        fold += 1\n",
    "    avg_acc = sum(accuracy)/len(accuracy)\n",
    "    avg_pre = sum(precision)/len(precision)\n",
    "    avg_rec = sum(recall)/len(recall)\n",
    "    avg_fm = sum(f_measure)/len(f_measure)\n",
    "    print 'avg_accuracy: ' , avg_acc\n",
    "    print 'avg_precision', avg_pre\n",
    "    print 'avg_recall', avg_rec\n",
    "    print 'avg_fmeasure', avg_fm"
   ]
  },
  {
   "cell_type": "code",
   "execution_count": 140,
   "metadata": {
    "collapsed": false,
    "scrolled": true
   },
   "outputs": [
    {
     "name": "stdout",
     "output_type": "stream",
     "text": [
      "fold: 1\n",
      "accuracy: 0.933333333333\n",
      "confusion_matrix\n",
      "[[4 0 0]\n",
      " [0 5 1]\n",
      " [0 0 5]]\n",
      "\n",
      "fold: 2\n",
      "accuracy: 0.933333333333\n",
      "confusion_matrix\n",
      "[[7 0 0]\n",
      " [0 4 1]\n",
      " [0 0 3]]\n",
      "\n",
      "fold: 3\n",
      "accuracy: 0.866666666667\n",
      "confusion_matrix\n",
      "[[7 0 0]\n",
      " [0 2 2]\n",
      " [0 0 4]]\n",
      "\n",
      "fold: 4\n",
      "accuracy: 1.0\n",
      "confusion_matrix\n",
      "[[7 0 0]\n",
      " [0 4 0]\n",
      " [0 0 4]]\n",
      "\n",
      "fold: 5\n",
      "accuracy: 0.933333333333\n",
      "confusion_matrix\n",
      "[[6 0 0]\n",
      " [0 3 1]\n",
      " [0 0 5]]\n",
      "\n",
      "fold: 6\n",
      "accuracy: 0.933333333333\n",
      "confusion_matrix\n",
      "[[3 0 0]\n",
      " [0 4 1]\n",
      " [0 0 7]]\n",
      "\n",
      "fold: 7\n",
      "accuracy: 0.666666666667\n",
      "confusion_matrix\n",
      "[[6 0 0]\n",
      " [0 1 3]\n",
      " [2 0 3]]\n",
      "\n",
      "fold: 8\n",
      "accuracy: 1.0\n",
      "confusion_matrix\n",
      "[[2 0 0]\n",
      " [0 5 0]\n",
      " [0 0 8]]\n",
      "\n",
      "fold: 9\n",
      "accuracy: 1.0\n",
      "confusion_matrix\n",
      "[[6 0 0]\n",
      " [0 5 0]\n",
      " [0 0 4]]\n",
      "\n",
      "fold: 10\n",
      "accuracy: 1.0\n",
      "confusion_matrix\n",
      "[[2 0 0]\n",
      " [0 8 0]\n",
      " [0 0 5]]\n",
      "\n",
      "avg_accuracy:  0.926666666667\n",
      "avg_precision 0.926666666667\n",
      "avg_recall 0.926666666667\n",
      "avg_fmeasure 0.926666666667\n"
     ]
    }
   ],
   "source": [
    "cross_validation_nd_kclass('bezdekIris.data.txt',10)"
   ]
  },
  {
   "cell_type": "markdown",
   "metadata": {},
   "source": [
    "# nd 2-Class Gaussian Discriminant Analysis"
   ]
  },
  {
   "cell_type": "code",
   "execution_count": 117,
   "metadata": {
    "collapsed": true
   },
   "outputs": [],
   "source": [
    "def preprocess_2class(data):\n",
    "    X = data[:100,:-1]\n",
    "    x = []\n",
    "    for i in X:\n",
    "        temp = []\n",
    "        for feature in i:\n",
    "            temp.append(eval(feature))\n",
    "        x.append(temp)\n",
    "    \n",
    "    X = np.array(x)\n",
    "    y = data[:100,-1]\n",
    "    le = preprocessing.LabelEncoder()\n",
    "    Y = le.fit_transform(y)\n",
    "    return X,Y"
   ]
  },
  {
   "cell_type": "code",
   "execution_count": 137,
   "metadata": {
    "collapsed": true
   },
   "outputs": [],
   "source": [
    "def cross_validation_nd_2class(filename,k):\n",
    "    data = load_data(filename)\n",
    "    X,Y = preprocess_2class(data)\n",
    "    accuracy = list()\n",
    "    precision = list()\n",
    "    recall = list()\n",
    "    f_measure = list()\n",
    "    fold = 1\n",
    "    for train_ind, test_ind in KFold(X.shape[0],k,shuffle=True):\n",
    "        X_train = np.array(X)[train_ind]\n",
    "        Y_train = np.array(Y)[train_ind]\n",
    "        X_test = np.array(X)[test_ind]\n",
    "        Y_test = np.array(Y)[test_ind]\n",
    "        \n",
    "        Y_predict = nd_experiment(X_train,Y_train,X_test)\n",
    "        temp = accuracy_score(Y_test,Y_predict,normalize=True, sample_weight=None)\n",
    "        accuracy.append(temp)\n",
    "        rec = recall_score(Y_test, Y_predict)  \n",
    "        c_matrix = confusion_matrix(Y_test, Y_predict)\n",
    "        recall.append(rec)\n",
    "        prec = precision_score(Y_test, Y_predict)  \n",
    "        precision.append(prec)\n",
    "        fm = f1_score(Y_test, Y_predict)\n",
    "        f_measure.append(fm)\n",
    "        print 'fold:', fold\n",
    "        print 'accuracy:', temp\n",
    "        print 'confusion_matrix'\n",
    "        print c_matrix\n",
    "        fold += 1\n",
    "    avg_acc = sum(accuracy)/len(accuracy)\n",
    "    avg_pre = sum(precision)/len(precision)\n",
    "    avg_rec = sum(recall)/len(recall)\n",
    "    avg_fm = sum(f_measure)/len(f_measure)\n",
    "    print 'avg_accuracy: ' , avg_acc\n",
    "    print 'avg_precision', avg_pre\n",
    "    print 'avg_recall', avg_rec\n",
    "    print 'avg_fmeasure', avg_fm\n",
    "\n",
    "    plt.plot(recall,precision)\n",
    "    plt.xlabel('recall')\n",
    "    plt.ylabel('precision')\n",
    "    area = trapz(precision, dx=5)\n",
    "    print(\"area =\", area)"
   ]
  },
  {
   "cell_type": "code",
   "execution_count": 138,
   "metadata": {
    "collapsed": false,
    "scrolled": true
   },
   "outputs": [
    {
     "name": "stdout",
     "output_type": "stream",
     "text": [
      "fold: 1\n",
      "accuracy: 1.0\n",
      "confusion_matrix\n",
      "[[5 0]\n",
      " [0 5]]\n",
      "fold: 2\n",
      "accuracy: 1.0\n",
      "confusion_matrix\n",
      "[[7 0]\n",
      " [0 3]]\n",
      "fold: 3\n",
      "accuracy: 1.0\n",
      "confusion_matrix\n",
      "[[3 0]\n",
      " [0 7]]\n",
      "fold: 4\n",
      "accuracy: 1.0\n",
      "confusion_matrix\n",
      "[[6 0]\n",
      " [0 4]]\n",
      "fold: 5\n",
      "accuracy: 1.0\n",
      "confusion_matrix\n",
      "[[3 0]\n",
      " [0 7]]\n",
      "fold: 6\n",
      "accuracy: 1.0\n",
      "confusion_matrix\n",
      "[[4 0]\n",
      " [0 6]]\n",
      "fold: 7\n",
      "accuracy: 1.0\n",
      "confusion_matrix\n",
      "[[3 0]\n",
      " [0 7]]\n",
      "fold: 8\n",
      "accuracy: 1.0\n",
      "confusion_matrix\n",
      "[[8 0]\n",
      " [0 2]]\n",
      "fold: 9\n",
      "accuracy: 1.0\n",
      "confusion_matrix\n",
      "[[5 0]\n",
      " [0 5]]\n",
      "fold: 10\n",
      "accuracy: 1.0\n",
      "confusion_matrix\n",
      "[[6 0]\n",
      " [0 4]]\n",
      "avg_accuracy:  1.0\n",
      "avg_precision 1.0\n",
      "avg_recall 1.0\n",
      "avg_fmeasure 1.0\n",
      "('area =', 45.0)\n"
     ]
    },
    {
     "data": {
      "image/png": "[encoded data removed]",
      "text/plain": [
       "<matplotlib.figure.Figure at 0x10b994290>"
      ]
     },
     "metadata": {},
     "output_type": "display_data"
    }
   ],
   "source": [
    "cross_validation_nd_2class('bezdekIris.data.txt',10)"
   ]
  },
  {
   "cell_type": "code",
   "execution_count": null,
   "metadata": {
    "collapsed": true
   },
   "outputs": [],
   "source": []
  }
 ],
 "metadata": {
  "kernelspec": {
   "display_name": "Python 2",
   "language": "python",
   "name": "python2"
  },
  "language_info": {
   "codemirror_mode": {
    "name": "ipython",
    "version": 2
   },
   "file_extension": ".py",
   "mimetype": "text/x-python",
   "name": "python",
   "nbconvert_exporter": "python",
   "pygments_lexer": "ipython2",
   "version": "2.7.6"
  }
 },
 "nbformat": 4,
 "nbformat_minor": 0
}
