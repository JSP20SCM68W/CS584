{
 "cells": [
  {
   "cell_type": "code",
   "execution_count": 27,
   "metadata": {
    "collapsed": false
   },
   "outputs": [],
   "source": [
    "import re\n",
    "from collections import defaultdict\n",
    "import matplotlib.pyplot as plt\n",
    "import numpy as np\n",
    "from pylab import *\n",
    "from decimal import Decimal\n",
    "from sklearn import cross_validation\n",
    "from sklearn.cross_validation import KFold\n",
    "from sklearn.metrics import mean_squared_error\n",
    "from sklearn import linear_model\n",
    "%matplotlib inline"
   ]
  },
  {
   "cell_type": "code",
   "execution_count": 3,
   "metadata": {
    "collapsed": false
   },
   "outputs": [],
   "source": [
    "def load_data(filename):\n",
    "    ''' load data and plot the data and get the complexity of the data\n",
    "    dictionary maps y to its feature vector x'''\n",
    "    f = open(filename,'r')\n",
    "    rows = 0\n",
    "    colums = 0\n",
    "    xy = defaultdict(list)\n",
    "    for word in f:\n",
    "        if word == \" \":\n",
    "            break\n",
    "        if not word.startswith(\"#\"):\n",
    "            nums = word.split()\n",
    "            nums = [float(n) for n in nums]\n",
    "            xy[float(nums[-1])] = nums[0:len(nums)-1]\n",
    "    return xy\n",
    "                \n",
    "                "
   ]
  },
  {
   "cell_type": "code",
   "execution_count": 8,
   "metadata": {
    "collapsed": false
   },
   "outputs": [],
   "source": [
    "sset1 = load_data(\"svar-set1.dat.txt\")"
   ]
  },
  {
   "cell_type": "code",
   "execution_count": null,
   "metadata": {
    "collapsed": true
   },
   "outputs": [],
   "source": [
    "# sset2 = load_data(\"svar-set2.dat.txt\")"
   ]
  },
  {
   "cell_type": "code",
   "execution_count": null,
   "metadata": {
    "collapsed": true
   },
   "outputs": [],
   "source": [
    "# sset3 = load_data(\"svar-set3.dat.txt\")"
   ]
  },
  {
   "cell_type": "code",
   "execution_count": null,
   "metadata": {
    "collapsed": true
   },
   "outputs": [],
   "source": [
    "# sset4 = load_data(\"svar-set4.dat.txt\")"
   ]
  },
  {
   "cell_type": "code",
   "execution_count": null,
   "metadata": {
    "collapsed": false
   },
   "outputs": [],
   "source": [
    "print len(sset1) , \" \" , len(sset2) , \" \" , len(sset3) , \" \" , len(sset4)"
   ]
  },
  {
   "cell_type": "code",
   "execution_count": 4,
   "metadata": {
    "collapsed": false
   },
   "outputs": [],
   "source": [
    "def plot_data(data,y_predict):\n",
    "    '''This function takes a dictionary of the data loaded from the files'''\n",
    "    x = list()\n",
    "    y = list()\n",
    "    # making a list of all feature values\n",
    "    for d1 in data.values():\n",
    "        for d2 in d1:\n",
    "            x.append(d2)\n",
    "    # making a list of all label values\n",
    "    for d1 in data.keys():\n",
    "        y.append(d1)\n",
    "    plt.show()\n",
    "    if (y_predict is not None):\n",
    "        plt.plot(x,y,'ro')\n",
    "        plt.plot(x,y_predict)\n",
    "    else:\n",
    "        plt.plot(x,y,'ro')\n",
    "    plt.show()"
   ]
  },
  {
   "cell_type": "code",
   "execution_count": null,
   "metadata": {
    "collapsed": false,
    "scrolled": true
   },
   "outputs": [],
   "source": [
    "plot_data(sset1,None)"
   ]
  },
  {
   "cell_type": "code",
   "execution_count": null,
   "metadata": {
    "collapsed": false
   },
   "outputs": [],
   "source": [
    "plot_data(sset2,None)"
   ]
  },
  {
   "cell_type": "code",
   "execution_count": null,
   "metadata": {
    "collapsed": false
   },
   "outputs": [],
   "source": [
    "plot_data(sset3,None)"
   ]
  },
  {
   "cell_type": "code",
   "execution_count": null,
   "metadata": {
    "collapsed": false
   },
   "outputs": [],
   "source": [
    "plot_data(sset4,None)"
   ]
  },
  {
   "cell_type": "code",
   "execution_count": 5,
   "metadata": {
    "collapsed": true
   },
   "outputs": [],
   "source": [
    "def fit_single_feature_linear_model(data):\n",
    "    '''fit linear model with the data\n",
    "       compute training and testing error\n",
    "       plot regression model on testing data'''\n",
    "    x = list()\n",
    "    y = data.keys()\n",
    "    m = len(y)\n",
    "    for d1 in data.values():\n",
    "        for d2 in d1:\n",
    "            x.append(d2)\n",
    "    sum_of_xi = sum(x) \n",
    "    sum_of_xi2 = sum([d**2 for d in x])\n",
    "    sum_of_yi = sum(y)\n",
    "    sum_of_xiyi =  sum([x[i]*y[i] for i in range(len(x))])\n",
    "    print 'm:', m\n",
    "    print 'sum(x) : ' , sum_of_xi \n",
    "    print 'sum(x2): ' , sum_of_xi2\n",
    "    print 'sum(y) : ', sum_of_yi \n",
    "    print 'sum(y2): ', sum_of_xiyi\n",
    "    A = np.matrix([[m, sum_of_xi], [sum_of_xi, sum_of_xi2]])\n",
    "    B = np.matrix([[sum_of_yi],[sum_of_xiyi]])\n",
    "    theta = solve(A,B)\n",
    "    return theta"
   ]
  },
  {
   "cell_type": "code",
   "execution_count": null,
   "metadata": {
    "collapsed": false,
    "scrolled": true
   },
   "outputs": [],
   "source": [
    "# theta_sset1 = fit_single_feature_linear_model(sset1)"
   ]
  },
  {
   "cell_type": "code",
   "execution_count": null,
   "metadata": {
    "collapsed": false
   },
   "outputs": [],
   "source": [
    "# theta_sset2 = fit_single_feature_linear_model(sset2)"
   ]
  },
  {
   "cell_type": "code",
   "execution_count": null,
   "metadata": {
    "collapsed": false
   },
   "outputs": [],
   "source": [
    "# theta_sset3 = fit_single_feature_linear_model(sset3)"
   ]
  },
  {
   "cell_type": "code",
   "execution_count": null,
   "metadata": {
    "collapsed": false
   },
   "outputs": [],
   "source": [
    "# theta_sset4 = fit_single_feature_linear_model(sset4)"
   ]
  },
  {
   "cell_type": "code",
   "execution_count": 13,
   "metadata": {
    "collapsed": false
   },
   "outputs": [],
   "source": [
    "def predict_y(x,theta):\n",
    "#     theta0 = theta[0][0]\n",
    "#     theta1 = theta[1][0]\n",
    "#     print 'theta0', (theta0)\n",
    "#     print 'theta1', (theta1)\n",
    "#     x = list()\n",
    "#     for d1 in data.values():\n",
    "#         for d2 in d1:\n",
    "#             x.append(d2)\n",
    "    X = np.array(x)\n",
    "    Y_predict = theta[0] + X*theta[1]\n",
    "    return Y_predict"
   ]
  },
  {
   "cell_type": "code",
   "execution_count": null,
   "metadata": {
    "collapsed": false
   },
   "outputs": [],
   "source": [
    "# Y_sset1 = predict_y(sset1,\n",
    "#                     np.array(theta_sset1))"
   ]
  },
  {
   "cell_type": "code",
   "execution_count": null,
   "metadata": {
    "collapsed": false
   },
   "outputs": [],
   "source": [
    "# Y_sset1"
   ]
  },
  {
   "cell_type": "code",
   "execution_count": null,
   "metadata": {
    "collapsed": true
   },
   "outputs": [],
   "source": [
    "# Y_sset2 = predict_y(sset2,np.array(theta_sset2))"
   ]
  },
  {
   "cell_type": "code",
   "execution_count": null,
   "metadata": {
    "collapsed": true
   },
   "outputs": [],
   "source": [
    "# Y_sset3 = predict_y(sset3,np.array(theta_sset3))"
   ]
  },
  {
   "cell_type": "code",
   "execution_count": null,
   "metadata": {
    "collapsed": true
   },
   "outputs": [],
   "source": [
    "# Y_sset4 = predict_y(sset4,np.array(theta_sset4))"
   ]
  },
  {
   "cell_type": "code",
   "execution_count": null,
   "metadata": {
    "collapsed": false,
    "scrolled": false
   },
   "outputs": [],
   "source": [
    "# plot_data(sset1,Y_sset1)\n",
    "    "
   ]
  },
  {
   "cell_type": "code",
   "execution_count": null,
   "metadata": {
    "collapsed": false
   },
   "outputs": [],
   "source": [
    "# plot_data(sset2,Y_sset2)"
   ]
  },
  {
   "cell_type": "code",
   "execution_count": null,
   "metadata": {
    "collapsed": false,
    "scrolled": true
   },
   "outputs": [],
   "source": [
    "# plot_data(sset3,Y_sset3)"
   ]
  },
  {
   "cell_type": "code",
   "execution_count": null,
   "metadata": {
    "collapsed": false,
    "scrolled": true
   },
   "outputs": [],
   "source": [
    "# plot_data(sset4,Y_sset4)"
   ]
  },
  {
   "cell_type": "code",
   "execution_count": 34,
   "metadata": {
    "collapsed": false
   },
   "outputs": [],
   "source": [
    "def do_experiment(data,folds):\n",
    "#     data = load_data(filename)\n",
    "    # fit model and obtain theta value\n",
    "    x = data.values()\n",
    "    y = data.keys()\n",
    "    theta = fit_single_feature_linear_model(data)\n",
    "    Y_predict = predict_y(x,np.array(theta))\n",
    "    avg_train_err = 0\n",
    "    avg_test_err = 0\n",
    "    avg_regr_test_err = 0\n",
    "    avg_regr_train_err = 0\n",
    "    regr = linear_model.LinearRegression()\n",
    "    fold = 1\n",
    "   \n",
    "    for train_ind, test_ind in KFold(len(y), folds,shuffle=True):\n",
    "        X_train = np.array(x)[train_ind]\n",
    "        Y_train = np.array(y)[train_ind]\n",
    "        X_test = np.array(x)[test_ind]\n",
    "        Y_test = np.array(y)[test_ind]\n",
    "        \n",
    "        Y_predict_train = predict_y(X_train,np.array(theta))\n",
    "        train_error =  mean_squared_error(Y_train, Y_predict_train) \n",
    "        avg_train_err += train_error\n",
    "        \n",
    "        \n",
    "        Y_predict_test = predict_y(X_test,np.array(theta))\n",
    "        test_error = mean_squared_error(Y_test,Y_predict_test)\n",
    "        avg_test_err += test_error\n",
    "        \n",
    "        print 'fold: ', fold, 'train_err: ', train_error, 'test_err: ', test_error\n",
    "    \n",
    "        #comparing model with the python function\n",
    "        regr.fit(X_train,Y_train)\n",
    "        \n",
    "        Y_predict_regr_train = regr.predict(X_train)\n",
    "        regr_train_error = mean_squared_error(Y_train,Y_predict_regr_train)\n",
    "        avg_regr_train_err += regr_train_error\n",
    "        \n",
    "        Y_predict_regr_test = regr.predict(X_test)\n",
    "        regr_test_error = mean_squared_error(Y_test,Y_predict_regr_test)\n",
    "        avg_regr_test_err += regr_test_error\n",
    "        \n",
    "        print 'fold: ', fold, 'regr_train_err: ', regr_train_error, 'regr_test_err: ', regr_test_error\n",
    "        print ' '\n",
    "        fold += 1\n",
    "    \n",
    "    avg_train_err /= folds\n",
    "    avg_test_err /= folds\n",
    "    avg_regr_train_err /= folds\n",
    "    avg_regr_test_err /= folds\n",
    "    \n",
    "    print 'folds: ', folds\n",
    "    print 'avg_train_err: ' , avg_train_err, 'avg_test_err: ', avg_test_err\n",
    "    print 'avg_regr_train_err: ',  avg_regr_train_err, 'avg_regr_test_err: ', avg_regr_test_err\n",
    "    print 'Regression coefficient: ', regr.coef_\n",
    "    \n",
    "    \n",
    "    "
   ]
  },
  {
   "cell_type": "code",
   "execution_count": 35,
   "metadata": {
    "collapsed": false,
    "scrolled": true
   },
   "outputs": [
    {
     "name": "stdout",
     "output_type": "stream",
     "text": [
      "m: 200\n",
      "sum(x) :  4000.0\n",
      "sum(x2):  86733.6683417\n",
      "sum(y) :  7996.65094195\n",
      "sum(y2):  173306.774845\n",
      "fold:  1 train_err:  4.29685369666 test_err:  3.6540228875\n",
      "fold:  1 regr_train_err:  4.29520647268 regr_test_err:  3.68568946857\n",
      " \n",
      "fold:  2 train_err:  4.16792054719 test_err:  4.81442123274\n",
      "fold:  2 regr_train_err:  4.16767042495 regr_test_err:  4.81912644557\n",
      " \n",
      "fold:  3 train_err:  4.21991733813 test_err:  4.34645011428\n",
      "fold:  3 regr_train_err:  4.21587072461 regr_test_err:  4.42508419713\n",
      " \n",
      "fold:  4 train_err:  4.15909394857 test_err:  4.89386062036\n",
      "fold:  4 regr_train_err:  4.15553868477 regr_test_err:  4.96032822922\n",
      " \n",
      "fold:  5 train_err:  4.15392638208 test_err:  4.94036871877\n",
      "fold:  5 regr_train_err:  4.14338695558 regr_test_err:  5.14307221262\n",
      " \n",
      "fold:  6 train_err:  4.21593661554 test_err:  4.38227661757\n",
      "fold:  6 regr_train_err:  4.20404805755 regr_test_err:  4.60643330371\n",
      " \n",
      "fold:  7 train_err:  4.34472275275 test_err:  3.2232013827\n",
      "fold:  7 regr_train_err:  4.33637384379 regr_test_err:  3.38329575537\n",
      " \n",
      "fold:  8 train_err:  4.17873528497 test_err:  4.71708859273\n",
      "fold:  8 regr_train_err:  4.17480792407 regr_test_err:  4.79368104114\n",
      " \n",
      "fold:  9 train_err:  4.30357781089 test_err:  3.59350585945\n",
      "fold:  9 regr_train_err:  4.2961478691 regr_test_err:  3.7386224183\n",
      " \n",
      "fold:  10 train_err:  4.28502178068 test_err:  3.76051013135\n",
      "fold:  10 regr_train_err:  4.28371475342 regr_test_err:  3.78470996776\n",
      " \n",
      "folds:  10\n",
      "avg_train_err:  4.23257061574 avg_test_err:  4.23257061574\n",
      "avg_regr_train_err:  4.22727657105 avg_regr_test_err:  4.33400430394\n",
      "Regression coefficient:  [ 1.98191338]\n"
     ]
    }
   ],
   "source": [
    "do_experiment(sset1,10)"
   ]
  },
  {
   "cell_type": "code",
   "execution_count": null,
   "metadata": {
    "collapsed": true
   },
   "outputs": [],
   "source": [
    "def compare_model():\n",
    "    '''compare the regression model with the one created by python model'''\n",
    "    regr = linear_model.LinearRegression()\n",
    "    regr.fit(diabetes_X_train, diabetes_y_train)"
   ]
  },
  {
   "cell_type": "code",
   "execution_count": null,
   "metadata": {
    "collapsed": true
   },
   "outputs": [],
   "source": []
  }
 ],
 "metadata": {
  "kernelspec": {
   "display_name": "Python 2",
   "language": "python",
   "name": "python2"
  },
  "language_info": {
   "codemirror_mode": {
    "name": "ipython",
    "version": 2
   },
   "file_extension": ".py",
   "mimetype": "text/x-python",
   "name": "python",
   "nbconvert_exporter": "python",
   "pygments_lexer": "ipython2",
   "version": "2.7.6"
  }
 },
 "nbformat": 4,
 "nbformat_minor": 0
}
