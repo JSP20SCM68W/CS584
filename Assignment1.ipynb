{
 "cells": [
  {
   "cell_type": "code",
   "execution_count": 27,
   "metadata": {
    "collapsed": false
   },
   "outputs": [],
   "source": [
    "import re\n",
    "from collections import defaultdict\n",
    "import matplotlib.pyplot as plt\n",
    "import numpy as np\n",
    "from pylab import *\n",
    "from decimal import Decimal\n",
    "from sklearn import cross_validation\n",
    "from sklearn.cross_validation import KFold\n",
    "from sklearn.metrics import mean_squared_error\n",
    "from sklearn import linear_model\n",
    "%matplotlib inline"
   ]
  },
  {
   "cell_type": "code",
   "execution_count": 3,
   "metadata": {
    "collapsed": false
   },
   "outputs": [],
   "source": [
    "def load_data(filename):\n",
    "    ''' load data and plot the data and get the complexity of the data\n",
    "    dictionary maps y to its feature vector x'''\n",
    "    f = open(filename,'r')\n",
    "    rows = 0\n",
    "    colums = 0\n",
    "    xy = defaultdict(list)\n",
    "    for word in f:\n",
    "        if word == \" \":\n",
    "            break\n",
    "        if not word.startswith(\"#\"):\n",
    "            nums = word.split()\n",
    "            nums = [float(n) for n in nums]\n",
    "            xy[float(nums[-1])] = nums[0:len(nums)-1]\n",
    "    return xy\n",
    "                \n",
    "                "
   ]
  },
  {
   "cell_type": "code",
   "execution_count": 8,
   "metadata": {
    "collapsed": false
   },
   "outputs": [],
   "source": [
    "sset1 = load_data(\"svar-set1.dat.txt\")"
   ]
  },
  {
   "cell_type": "code",
   "execution_count": null,
   "metadata": {
    "collapsed": true
   },
   "outputs": [],
   "source": [
    "# sset2 = load_data(\"svar-set2.dat.txt\")"
   ]
  },
  {
   "cell_type": "code",
   "execution_count": null,
   "metadata": {
    "collapsed": true
   },
   "outputs": [],
   "source": [
    "# sset3 = load_data(\"svar-set3.dat.txt\")"
   ]
  },
  {
   "cell_type": "code",
   "execution_count": null,
   "metadata": {
    "collapsed": true
   },
   "outputs": [],
   "source": [
    "# sset4 = load_data(\"svar-set4.dat.txt\")"
   ]
  },
  {
   "cell_type": "code",
   "execution_count": null,
   "metadata": {
    "collapsed": false
   },
   "outputs": [],
   "source": [
    "print len(sset1) , \" \" , len(sset2) , \" \" , len(sset3) , \" \" , len(sset4)"
   ]
  },
  {
   "cell_type": "code",
   "execution_count": 4,
   "metadata": {
    "collapsed": false
   },
   "outputs": [],
   "source": [
    "def plot_data(data,y_predict):\n",
    "    '''This function takes a dictionary of the data loaded from the files'''\n",
    "    x = list()\n",
    "    y = list()\n",
    "    # making a list of all feature values\n",
    "    for d1 in data.values():\n",
    "        for d2 in d1:\n",
    "            x.append(d2)\n",
    "    # making a list of all label values\n",
    "    for d1 in data.keys():\n",
    "        y.append(d1)\n",
    "    plt.show()\n",
    "    if (y_predict is not None):\n",
    "        plt.plot(x,y,'ro')\n",
    "        plt.plot(x,y_predict)\n",
    "    else:\n",
    "        plt.plot(x,y,'ro')\n",
    "    plt.show()"
   ]
  },
  {
   "cell_type": "code",
   "execution_count": null,
   "metadata": {
    "collapsed": false,
    "scrolled": true
   },
   "outputs": [],
   "source": [
    "plot_data(sset1,None)"
   ]
  },
  {
   "cell_type": "code",
   "execution_count": null,
   "metadata": {
    "collapsed": false
   },
   "outputs": [],
   "source": [
    "plot_data(sset2,None)"
   ]
  },
  {
   "cell_type": "code",
   "execution_count": null,
   "metadata": {
    "collapsed": false
   },
   "outputs": [],
   "source": [
    "plot_data(sset3,None)"
   ]
  },
  {
   "cell_type": "code",
   "execution_count": null,
   "metadata": {
    "collapsed": false
   },
   "outputs": [],
   "source": [
    "plot_data(sset4,None)"
   ]
  },
  {
   "cell_type": "code",
   "execution_count": 5,
   "metadata": {
    "collapsed": true
   },
   "outputs": [],
   "source": [
    "def fit_single_feature_linear_model(data):\n",
    "    '''fit linear model with the data\n",
    "       compute training and testing error\n",
    "       plot regression model on testing data'''\n",
    "    x = list()\n",
    "    y = data.keys()\n",
    "    m = len(y)\n",
    "    for d1 in data.values():\n",
    "        for d2 in d1:\n",
    "            x.append(d2)\n",
    "    sum_of_xi = sum(x) \n",
    "    sum_of_xi2 = sum([d**2 for d in x])\n",
    "    sum_of_yi = sum(y)\n",
    "    sum_of_xiyi =  sum([x[i]*y[i] for i in range(len(x))])\n",
    "    print 'm:', m\n",
    "    print 'sum(x) : ' , sum_of_xi \n",
    "    print 'sum(x2): ' , sum_of_xi2\n",
    "    print 'sum(y) : ', sum_of_yi \n",
    "    print 'sum(y2): ', sum_of_xiyi\n",
    "    A = np.matrix([[m, sum_of_xi], [sum_of_xi, sum_of_xi2]])\n",
    "    B = np.matrix([[sum_of_yi],[sum_of_xiyi]])\n",
    "    theta = solve(A,B)\n",
    "    return theta"
   ]
  },
  {
   "cell_type": "code",
   "execution_count": null,
   "metadata": {
    "collapsed": false,
    "scrolled": true
   },
   "outputs": [],
   "source": [
    "# theta_sset1 = fit_single_feature_linear_model(sset1)"
   ]
  },
  {
   "cell_type": "code",
   "execution_count": null,
   "metadata": {
    "collapsed": false
   },
   "outputs": [],
   "source": [
    "# theta_sset2 = fit_single_feature_linear_model(sset2)"
   ]
  },
  {
   "cell_type": "code",
   "execution_count": null,
   "metadata": {
    "collapsed": false
   },
   "outputs": [],
   "source": [
    "# theta_sset3 = fit_single_feature_linear_model(sset3)"
   ]
  },
  {
   "cell_type": "code",
   "execution_count": null,
   "metadata": {
    "collapsed": false
   },
   "outputs": [],
   "source": [
    "# theta_sset4 = fit_single_feature_linear_model(sset4)"
   ]
  },
  {
   "cell_type": "code",
   "execution_count": 13,
   "metadata": {
    "collapsed": false
   },
   "outputs": [],
   "source": [
    "def predict_y(x,theta):\n",
    "#     theta0 = theta[0][0]\n",
    "#     theta1 = theta[1][0]\n",
    "#     print 'theta0', (theta0)\n",
    "#     print 'theta1', (theta1)\n",
    "#     x = list()\n",
    "#     for d1 in data.values():\n",
    "#         for d2 in d1:\n",
    "#             x.append(d2)\n",
    "    X = np.array(x)\n",
    "    Y_predict = theta[0] + X*theta[1]\n",
    "    return Y_predict"
   ]
  },
  {
   "cell_type": "code",
   "execution_count": null,
   "metadata": {
    "collapsed": false
   },
   "outputs": [],
   "source": [
    "# Y_sset1 = predict_y(sset1,\n",
    "#                     np.array(theta_sset1))"
   ]
  },
  {
   "cell_type": "code",
   "execution_count": null,
   "metadata": {
    "collapsed": false
   },
   "outputs": [],
   "source": [
    "# Y_sset1"
   ]
  },
  {
   "cell_type": "code",
   "execution_count": null,
   "metadata": {
    "collapsed": true
   },
   "outputs": [],
   "source": [
    "# Y_sset2 = predict_y(sset2,np.array(theta_sset2))"
   ]
  },
  {
   "cell_type": "code",
   "execution_count": null,
   "metadata": {
    "collapsed": true
   },
   "outputs": [],
   "source": [
    "# Y_sset3 = predict_y(sset3,np.array(theta_sset3))"
   ]
  },
  {
   "cell_type": "code",
   "execution_count": null,
   "metadata": {
    "collapsed": true
   },
   "outputs": [],
   "source": [
    "# Y_sset4 = predict_y(sset4,np.array(theta_sset4))"
   ]
  },
  {
   "cell_type": "code",
   "execution_count": null,
   "metadata": {
    "collapsed": false,
    "scrolled": false
   },
   "outputs": [],
   "source": [
    "# plot_data(sset1,Y_sset1)\n",
    "    "
   ]
  },
  {
   "cell_type": "code",
   "execution_count": null,
   "metadata": {
    "collapsed": false
   },
   "outputs": [],
   "source": [
    "# plot_data(sset2,Y_sset2)"
   ]
  },
  {
   "cell_type": "code",
   "execution_count": null,
   "metadata": {
    "collapsed": false,
    "scrolled": true
   },
   "outputs": [],
   "source": [
    "# plot_data(sset3,Y_sset3)"
   ]
  },
  {
   "cell_type": "code",
   "execution_count": null,
   "metadata": {
    "collapsed": false,
    "scrolled": true
   },
   "outputs": [],
   "source": [
    "# plot_data(sset4,Y_sset4)"
   ]
  },
  {
   "cell_type": "code",
   "execution_count": 25,
   "metadata": {
    "collapsed": false
   },
   "outputs": [],
   "source": [
    "def do_experiment(data,folds):\n",
    "#     data = load_data(filename)\n",
    "    # fit model and obtain theta value\n",
    "    x = data.values()\n",
    "    y = data.keys()\n",
    "    theta = fit_single_feature_linear_model(data)\n",
    "    Y_predict = predict_y(x,np.array(theta))\n",
    "    train_err = 0\n",
    "    test_err = 0\n",
    "    \n",
    "    for train_ind, test_ind in KFold(len(y), folds,shuffle=True):\n",
    "        X_train = np.array(x)[train_ind]\n",
    "        Y_predict_train = predict_y(X_train,np.array(theta))\n",
    "        Y_train = np.array(y)[train_ind]\n",
    "        train_error =  mean_squared_error(Y_train, Y_predict_train) \n",
    "        train_err += train_error\n",
    "        \n",
    "        X_test = np.array(x)[test_ind]\n",
    "        Y_predict_test = predict_y(X_test,np.array(theta))\n",
    "        Y_test = np.array(y)[test_ind]\n",
    "        test_error = mean_squared_error(Y_test,Y_predict_test)\n",
    "        test_err += test_error  \n",
    "        \n",
    "        print 'fold: ', folds, 'train_error: ', train_error ,'test_error: ', test_error\n",
    "        print ' '\n",
    "    train_err /= folds\n",
    "    test_err /= folds\n",
    "    print 'train_err: ', train_err, 'test_err' , test_err"
   ]
  },
  {
   "cell_type": "code",
   "execution_count": 26,
   "metadata": {
    "collapsed": false,
    "scrolled": true
   },
   "outputs": [
    {
     "name": "stdout",
     "output_type": "stream",
     "text": [
      "m: 200\n",
      "sum(x) :  4000.0\n",
      "sum(x2):  86733.6683417\n",
      "sum(y) :  7996.65094195\n",
      "sum(y2):  173306.774845\n",
      "fold:  10 train_error:  4.30454614226 test_error:  3.5847908771\n",
      " \n",
      "fold:  10 train_error:  4.06240646736 test_error:  5.76404795116\n",
      " \n",
      "fold:  10 train_error:  4.38397551005 test_error:  2.86992656699\n",
      " \n",
      "fold:  10 train_error:  4.40491731747 test_error:  2.68145030019\n",
      " \n",
      "fold:  10 train_error:  4.25938128275 test_error:  3.99127461265\n",
      " \n",
      "fold:  10 train_error:  4.27762713442 test_error:  3.8270619477\n",
      " \n",
      "fold:  10 train_error:  4.15993059603 test_error:  4.88633079314\n",
      " \n",
      "fold:  10 train_error:  4.3222607993 test_error:  3.42535896371\n",
      " \n",
      "fold:  10 train_error:  3.98485910746 test_error:  6.46197419034\n",
      " \n",
      "fold:  10 train_error:  4.16580180033 test_error:  4.83348995445\n",
      " \n",
      "train_err:  4.23257061574 test_err 4.23257061574\n"
     ]
    }
   ],
   "source": [
    "do_experiment(sset1,10)"
   ]
  },
  {
   "cell_type": "code",
   "execution_count": null,
   "metadata": {
    "collapsed": true
   },
   "outputs": [],
   "source": [
    "def compare_model():\n",
    "    '''compare the regression model with the one created by python model'''\n",
    "    regr = linear_model.LinearRegression()\n",
    "    regr.fit(diabetes_X_train, diabetes_y_train)"
   ]
  },
  {
   "cell_type": "code",
   "execution_count": null,
   "metadata": {
    "collapsed": true
   },
   "outputs": [],
   "source": []
  }
 ],
 "metadata": {
  "kernelspec": {
   "display_name": "Python 2",
   "language": "python",
   "name": "python2"
  },
  "language_info": {
   "codemirror_mode": {
    "name": "ipython",
    "version": 2
   },
   "file_extension": ".py",
   "mimetype": "text/x-python",
   "name": "python",
   "nbconvert_exporter": "python",
   "pygments_lexer": "ipython2",
   "version": "2.7.6"
  }
 },
 "nbformat": 4,
 "nbformat_minor": 0
}
